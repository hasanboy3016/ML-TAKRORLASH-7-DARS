{
 "cells": [
  {
   "cell_type": "markdown",
   "metadata": {},
   "source": [
    "Takrorlash"
   ]
  },
  {
   "cell_type": "code",
   "execution_count": 1,
   "metadata": {},
   "outputs": [],
   "source": [
    "import pandas as pd"
   ]
  },
  {
   "cell_type": "code",
   "execution_count": 2,
   "metadata": {},
   "outputs": [],
   "source": [
    "df=pd.read_csv('tel malumot.7.csv')"
   ]
  },
  {
   "cell_type": "code",
   "execution_count": 6,
   "metadata": {},
   "outputs": [
    {
     "data": {
      "text/html": [
       "<div>\n",
       "<style scoped>\n",
       "    .dataframe tbody tr th:only-of-type {\n",
       "        vertical-align: middle;\n",
       "    }\n",
       "\n",
       "    .dataframe tbody tr th {\n",
       "        vertical-align: top;\n",
       "    }\n",
       "\n",
       "    .dataframe thead th {\n",
       "        text-align: right;\n",
       "    }\n",
       "</style>\n",
       "<table border=\"1\" class=\"dataframe\">\n",
       "  <thead>\n",
       "    <tr style=\"text-align: right;\">\n",
       "      <th></th>\n",
       "      <th>Unnamed: 0</th>\n",
       "      <th>id</th>\n",
       "      <th>battery_power</th>\n",
       "      <th>blue</th>\n",
       "      <th>clock_speed</th>\n",
       "      <th>dual_sim</th>\n",
       "      <th>fc</th>\n",
       "      <th>four_g</th>\n",
       "      <th>int_memory</th>\n",
       "      <th>m_dep</th>\n",
       "      <th>...</th>\n",
       "      <th>screen_size_index</th>\n",
       "      <th>camera_quality_index</th>\n",
       "      <th>connectivity_index</th>\n",
       "      <th>performance_index</th>\n",
       "      <th>storage_capacity_index</th>\n",
       "      <th>multitasking_capability</th>\n",
       "      <th>display_resolution_index</th>\n",
       "      <th>camera_resolution_index</th>\n",
       "      <th>battery_longevity_index</th>\n",
       "      <th>connectivity_memory_ratio</th>\n",
       "    </tr>\n",
       "  </thead>\n",
       "  <tbody>\n",
       "    <tr>\n",
       "      <th>0</th>\n",
       "      <td>0</td>\n",
       "      <td>1</td>\n",
       "      <td>1043</td>\n",
       "      <td>1</td>\n",
       "      <td>1.8</td>\n",
       "      <td>1</td>\n",
       "      <td>14.0</td>\n",
       "      <td>0.0</td>\n",
       "      <td>5</td>\n",
       "      <td>0.1</td>\n",
       "      <td>...</td>\n",
       "      <td>84</td>\n",
       "      <td>224</td>\n",
       "      <td>3</td>\n",
       "      <td>6256.8</td>\n",
       "      <td>214</td>\n",
       "      <td>33</td>\n",
       "      <td>319112</td>\n",
       "      <td>30</td>\n",
       "      <td>2086</td>\n",
       "      <td>0.600000</td>\n",
       "    </tr>\n",
       "    <tr>\n",
       "      <th>1</th>\n",
       "      <td>1</td>\n",
       "      <td>2</td>\n",
       "      <td>841</td>\n",
       "      <td>1</td>\n",
       "      <td>0.5</td>\n",
       "      <td>1</td>\n",
       "      <td>4.0</td>\n",
       "      <td>1.0</td>\n",
       "      <td>61</td>\n",
       "      <td>0.8</td>\n",
       "      <td>...</td>\n",
       "      <td>0</td>\n",
       "      <td>48</td>\n",
       "      <td>4</td>\n",
       "      <td>1947.5</td>\n",
       "      <td>264</td>\n",
       "      <td>21</td>\n",
       "      <td>639322</td>\n",
       "      <td>16</td>\n",
       "      <td>5887</td>\n",
       "      <td>0.065574</td>\n",
       "    </tr>\n",
       "    <tr>\n",
       "      <th>2</th>\n",
       "      <td>2</td>\n",
       "      <td>3</td>\n",
       "      <td>1807</td>\n",
       "      <td>1</td>\n",
       "      <td>2.8</td>\n",
       "      <td>0</td>\n",
       "      <td>1.0</td>\n",
       "      <td>0.0</td>\n",
       "      <td>27</td>\n",
       "      <td>0.9</td>\n",
       "      <td>...</td>\n",
       "      <td>170</td>\n",
       "      <td>4</td>\n",
       "      <td>3</td>\n",
       "      <td>6708.8</td>\n",
       "      <td>217</td>\n",
       "      <td>8</td>\n",
       "      <td>1734820</td>\n",
       "      <td>5</td>\n",
       "      <td>18070</td>\n",
       "      <td>0.111111</td>\n",
       "    </tr>\n",
       "    <tr>\n",
       "      <th>3</th>\n",
       "      <td>3</td>\n",
       "      <td>4</td>\n",
       "      <td>1546</td>\n",
       "      <td>0</td>\n",
       "      <td>0.5</td>\n",
       "      <td>1</td>\n",
       "      <td>18.0</td>\n",
       "      <td>1.0</td>\n",
       "      <td>25</td>\n",
       "      <td>0.5</td>\n",
       "      <td>...</td>\n",
       "      <td>0</td>\n",
       "      <td>360</td>\n",
       "      <td>4</td>\n",
       "      <td>1946.5</td>\n",
       "      <td>141</td>\n",
       "      <td>46</td>\n",
       "      <td>516840</td>\n",
       "      <td>38</td>\n",
       "      <td>10822</td>\n",
       "      <td>0.160000</td>\n",
       "    </tr>\n",
       "    <tr>\n",
       "      <th>4</th>\n",
       "      <td>4</td>\n",
       "      <td>5</td>\n",
       "      <td>1434</td>\n",
       "      <td>0</td>\n",
       "      <td>1.4</td>\n",
       "      <td>0</td>\n",
       "      <td>11.0</td>\n",
       "      <td>1.0</td>\n",
       "      <td>49</td>\n",
       "      <td>0.5</td>\n",
       "      <td>...</td>\n",
       "      <td>120</td>\n",
       "      <td>198</td>\n",
       "      <td>3</td>\n",
       "      <td>2482.2</td>\n",
       "      <td>175</td>\n",
       "      <td>35</td>\n",
       "      <td>606690</td>\n",
       "      <td>29</td>\n",
       "      <td>10038</td>\n",
       "      <td>0.061224</td>\n",
       "    </tr>\n",
       "  </tbody>\n",
       "</table>\n",
       "<p>5 rows × 33 columns</p>\n",
       "</div>"
      ],
      "text/plain": [
       "   Unnamed: 0  id  battery_power  blue  clock_speed  dual_sim    fc  four_g  \\\n",
       "0           0   1           1043     1          1.8         1  14.0     0.0   \n",
       "1           1   2            841     1          0.5         1   4.0     1.0   \n",
       "2           2   3           1807     1          2.8         0   1.0     0.0   \n",
       "3           3   4           1546     0          0.5         1  18.0     1.0   \n",
       "4           4   5           1434     0          1.4         0  11.0     1.0   \n",
       "\n",
       "   int_memory  m_dep  ...  screen_size_index  camera_quality_index  \\\n",
       "0           5    0.1  ...                 84                   224   \n",
       "1          61    0.8  ...                  0                    48   \n",
       "2          27    0.9  ...                170                     4   \n",
       "3          25    0.5  ...                  0                   360   \n",
       "4          49    0.5  ...                120                   198   \n",
       "\n",
       "   connectivity_index  performance_index  storage_capacity_index  \\\n",
       "0                   3             6256.8                     214   \n",
       "1                   4             1947.5                     264   \n",
       "2                   3             6708.8                     217   \n",
       "3                   4             1946.5                     141   \n",
       "4                   3             2482.2                     175   \n",
       "\n",
       "   multitasking_capability  display_resolution_index  camera_resolution_index  \\\n",
       "0                       33                    319112                       30   \n",
       "1                       21                    639322                       16   \n",
       "2                        8                   1734820                        5   \n",
       "3                       46                    516840                       38   \n",
       "4                       35                    606690                       29   \n",
       "\n",
       "   battery_longevity_index  connectivity_memory_ratio  \n",
       "0                     2086                   0.600000  \n",
       "1                     5887                   0.065574  \n",
       "2                    18070                   0.111111  \n",
       "3                    10822                   0.160000  \n",
       "4                    10038                   0.061224  \n",
       "\n",
       "[5 rows x 33 columns]"
      ]
     },
     "execution_count": 6,
     "metadata": {},
     "output_type": "execute_result"
    }
   ],
   "source": [
    "df.head()"
   ]
  },
  {
   "cell_type": "code",
   "execution_count": 8,
   "metadata": {},
   "outputs": [
    {
     "data": {
      "text/html": [
       "<div>\n",
       "<style scoped>\n",
       "    .dataframe tbody tr th:only-of-type {\n",
       "        vertical-align: middle;\n",
       "    }\n",
       "\n",
       "    .dataframe tbody tr th {\n",
       "        vertical-align: top;\n",
       "    }\n",
       "\n",
       "    .dataframe thead th {\n",
       "        text-align: right;\n",
       "    }\n",
       "</style>\n",
       "<table border=\"1\" class=\"dataframe\">\n",
       "  <thead>\n",
       "    <tr style=\"text-align: right;\">\n",
       "      <th></th>\n",
       "      <th>Unnamed: 0</th>\n",
       "      <th>id</th>\n",
       "      <th>battery_power</th>\n",
       "      <th>blue</th>\n",
       "      <th>clock_speed</th>\n",
       "      <th>dual_sim</th>\n",
       "      <th>fc</th>\n",
       "      <th>four_g</th>\n",
       "      <th>int_memory</th>\n",
       "      <th>m_dep</th>\n",
       "      <th>...</th>\n",
       "      <th>screen_size_index</th>\n",
       "      <th>camera_quality_index</th>\n",
       "      <th>connectivity_index</th>\n",
       "      <th>performance_index</th>\n",
       "      <th>storage_capacity_index</th>\n",
       "      <th>multitasking_capability</th>\n",
       "      <th>display_resolution_index</th>\n",
       "      <th>camera_resolution_index</th>\n",
       "      <th>battery_longevity_index</th>\n",
       "      <th>connectivity_memory_ratio</th>\n",
       "    </tr>\n",
       "  </thead>\n",
       "  <tbody>\n",
       "    <tr>\n",
       "      <th>995</th>\n",
       "      <td>995</td>\n",
       "      <td>996</td>\n",
       "      <td>1700</td>\n",
       "      <td>1</td>\n",
       "      <td>1.9</td>\n",
       "      <td>0</td>\n",
       "      <td>0.0</td>\n",
       "      <td>1.0</td>\n",
       "      <td>54</td>\n",
       "      <td>0.5</td>\n",
       "      <td>...</td>\n",
       "      <td>112</td>\n",
       "      <td>0</td>\n",
       "      <td>4</td>\n",
       "      <td>4029.9</td>\n",
       "      <td>241</td>\n",
       "      <td>24</td>\n",
       "      <td>587972</td>\n",
       "      <td>17</td>\n",
       "      <td>25500</td>\n",
       "      <td>0.074074</td>\n",
       "    </tr>\n",
       "    <tr>\n",
       "      <th>996</th>\n",
       "      <td>996</td>\n",
       "      <td>997</td>\n",
       "      <td>609</td>\n",
       "      <td>0</td>\n",
       "      <td>1.8</td>\n",
       "      <td>1</td>\n",
       "      <td>0.0</td>\n",
       "      <td>0.0</td>\n",
       "      <td>13</td>\n",
       "      <td>0.9</td>\n",
       "      <td>...</td>\n",
       "      <td>8</td>\n",
       "      <td>0</td>\n",
       "      <td>3</td>\n",
       "      <td>3479.4</td>\n",
       "      <td>201</td>\n",
       "      <td>6</td>\n",
       "      <td>1880064</td>\n",
       "      <td>2</td>\n",
       "      <td>11571</td>\n",
       "      <td>0.230769</td>\n",
       "    </tr>\n",
       "    <tr>\n",
       "      <th>997</th>\n",
       "      <td>997</td>\n",
       "      <td>998</td>\n",
       "      <td>1185</td>\n",
       "      <td>0</td>\n",
       "      <td>1.4</td>\n",
       "      <td>0</td>\n",
       "      <td>1.0</td>\n",
       "      <td>1.0</td>\n",
       "      <td>8</td>\n",
       "      <td>0.5</td>\n",
       "      <td>...</td>\n",
       "      <td>0</td>\n",
       "      <td>12</td>\n",
       "      <td>2</td>\n",
       "      <td>1712.2</td>\n",
       "      <td>100</td>\n",
       "      <td>14</td>\n",
       "      <td>393525</td>\n",
       "      <td>13</td>\n",
       "      <td>16590</td>\n",
       "      <td>0.250000</td>\n",
       "    </tr>\n",
       "    <tr>\n",
       "      <th>998</th>\n",
       "      <td>998</td>\n",
       "      <td>999</td>\n",
       "      <td>1533</td>\n",
       "      <td>1</td>\n",
       "      <td>0.5</td>\n",
       "      <td>1</td>\n",
       "      <td>0.0</td>\n",
       "      <td>0.0</td>\n",
       "      <td>50</td>\n",
       "      <td>0.4</td>\n",
       "      <td>...</td>\n",
       "      <td>165</td>\n",
       "      <td>0</td>\n",
       "      <td>3</td>\n",
       "      <td>1254.5</td>\n",
       "      <td>233</td>\n",
       "      <td>14</td>\n",
       "      <td>31616</td>\n",
       "      <td>12</td>\n",
       "      <td>9198</td>\n",
       "      <td>0.060000</td>\n",
       "    </tr>\n",
       "    <tr>\n",
       "      <th>999</th>\n",
       "      <td>999</td>\n",
       "      <td>1000</td>\n",
       "      <td>1270</td>\n",
       "      <td>1</td>\n",
       "      <td>0.5</td>\n",
       "      <td>0</td>\n",
       "      <td>4.0</td>\n",
       "      <td>1.0</td>\n",
       "      <td>35</td>\n",
       "      <td>0.1</td>\n",
       "      <td>...</td>\n",
       "      <td>18</td>\n",
       "      <td>76</td>\n",
       "      <td>4</td>\n",
       "      <td>1414.0</td>\n",
       "      <td>194</td>\n",
       "      <td>29</td>\n",
       "      <td>277856</td>\n",
       "      <td>23</td>\n",
       "      <td>3810</td>\n",
       "      <td>0.114286</td>\n",
       "    </tr>\n",
       "  </tbody>\n",
       "</table>\n",
       "<p>5 rows × 33 columns</p>\n",
       "</div>"
      ],
      "text/plain": [
       "     Unnamed: 0    id  battery_power  blue  clock_speed  dual_sim   fc  \\\n",
       "995         995   996           1700     1          1.9         0  0.0   \n",
       "996         996   997            609     0          1.8         1  0.0   \n",
       "997         997   998           1185     0          1.4         0  1.0   \n",
       "998         998   999           1533     1          0.5         1  0.0   \n",
       "999         999  1000           1270     1          0.5         0  4.0   \n",
       "\n",
       "     four_g  int_memory  m_dep  ...  screen_size_index  camera_quality_index  \\\n",
       "995     1.0          54    0.5  ...                112                     0   \n",
       "996     0.0          13    0.9  ...                  8                     0   \n",
       "997     1.0           8    0.5  ...                  0                    12   \n",
       "998     0.0          50    0.4  ...                165                     0   \n",
       "999     1.0          35    0.1  ...                 18                    76   \n",
       "\n",
       "     connectivity_index  performance_index  storage_capacity_index  \\\n",
       "995                   4             4029.9                     241   \n",
       "996                   3             3479.4                     201   \n",
       "997                   2             1712.2                     100   \n",
       "998                   3             1254.5                     233   \n",
       "999                   4             1414.0                     194   \n",
       "\n",
       "     multitasking_capability  display_resolution_index  \\\n",
       "995                       24                    587972   \n",
       "996                        6                   1880064   \n",
       "997                       14                    393525   \n",
       "998                       14                     31616   \n",
       "999                       29                    277856   \n",
       "\n",
       "     camera_resolution_index  battery_longevity_index  \\\n",
       "995                       17                    25500   \n",
       "996                        2                    11571   \n",
       "997                       13                    16590   \n",
       "998                       12                     9198   \n",
       "999                       23                     3810   \n",
       "\n",
       "     connectivity_memory_ratio  \n",
       "995                   0.074074  \n",
       "996                   0.230769  \n",
       "997                   0.250000  \n",
       "998                   0.060000  \n",
       "999                   0.114286  \n",
       "\n",
       "[5 rows x 33 columns]"
      ]
     },
     "execution_count": 8,
     "metadata": {},
     "output_type": "execute_result"
    }
   ],
   "source": [
    "df.tail()"
   ]
  },
  {
   "cell_type": "code",
   "execution_count": 10,
   "metadata": {},
   "outputs": [
    {
     "name": "stdout",
     "output_type": "stream",
     "text": [
      "<class 'pandas.core.frame.DataFrame'>\n",
      "RangeIndex: 1000 entries, 0 to 999\n",
      "Data columns (total 33 columns):\n",
      " #   Column                     Non-Null Count  Dtype  \n",
      "---  ------                     --------------  -----  \n",
      " 0   Unnamed: 0                 1000 non-null   int64  \n",
      " 1   id                         1000 non-null   int64  \n",
      " 2   battery_power              1000 non-null   int64  \n",
      " 3   blue                       1000 non-null   int64  \n",
      " 4   clock_speed                1000 non-null   float64\n",
      " 5   dual_sim                   1000 non-null   int64  \n",
      " 6   fc                         998 non-null    float64\n",
      " 7   four_g                     999 non-null    float64\n",
      " 8   int_memory                 1000 non-null   int64  \n",
      " 9   m_dep                      994 non-null    float64\n",
      " 10  mobile_wt                  999 non-null    float64\n",
      " 11  n_cores                    999 non-null    float64\n",
      " 12  pc                         997 non-null    float64\n",
      " 13  px_height                  1000 non-null   int64  \n",
      " 14  px_width                   1000 non-null   int64  \n",
      " 15  ram                        1000 non-null   int64  \n",
      " 16  sc_h                       1000 non-null   int64  \n",
      " 17  sc_w                       1000 non-null   int64  \n",
      " 18  talk_time                  1000 non-null   int64  \n",
      " 19  three_g                    1000 non-null   int64  \n",
      " 20  touch_screen               1000 non-null   int64  \n",
      " 21  wifi                       1000 non-null   int64  \n",
      " 22  battery_efficiency         1000 non-null   int64  \n",
      " 23  screen_size_index          1000 non-null   int64  \n",
      " 24  camera_quality_index       1000 non-null   int64  \n",
      " 25  connectivity_index         1000 non-null   int64  \n",
      " 26  performance_index          1000 non-null   float64\n",
      " 27  storage_capacity_index     1000 non-null   int64  \n",
      " 28  multitasking_capability    1000 non-null   int64  \n",
      " 29  display_resolution_index   1000 non-null   int64  \n",
      " 30  camera_resolution_index    1000 non-null   int64  \n",
      " 31  battery_longevity_index    1000 non-null   int64  \n",
      " 32  connectivity_memory_ratio  1000 non-null   float64\n",
      "dtypes: float64(9), int64(24)\n",
      "memory usage: 257.9 KB\n"
     ]
    }
   ],
   "source": [
    "df.info()"
   ]
  },
  {
   "cell_type": "markdown",
   "metadata": {},
   "source": [
    "Data preprocessing"
   ]
  },
  {
   "cell_type": "code",
   "execution_count": 11,
   "metadata": {},
   "outputs": [
    {
     "data": {
      "text/plain": [
       "Unnamed: 0                   0\n",
       "id                           0\n",
       "battery_power                0\n",
       "blue                         0\n",
       "clock_speed                  0\n",
       "dual_sim                     0\n",
       "fc                           2\n",
       "four_g                       1\n",
       "int_memory                   0\n",
       "m_dep                        6\n",
       "mobile_wt                    1\n",
       "n_cores                      1\n",
       "pc                           3\n",
       "px_height                    0\n",
       "px_width                     0\n",
       "ram                          0\n",
       "sc_h                         0\n",
       "sc_w                         0\n",
       "talk_time                    0\n",
       "three_g                      0\n",
       "touch_screen                 0\n",
       "wifi                         0\n",
       "battery_efficiency           0\n",
       "screen_size_index            0\n",
       "camera_quality_index         0\n",
       "connectivity_index           0\n",
       "performance_index            0\n",
       "storage_capacity_index       0\n",
       "multitasking_capability      0\n",
       "display_resolution_index     0\n",
       "camera_resolution_index      0\n",
       "battery_longevity_index      0\n",
       "connectivity_memory_ratio    0\n",
       "dtype: int64"
      ]
     },
     "execution_count": 11,
     "metadata": {},
     "output_type": "execute_result"
    }
   ],
   "source": [
    "# handl ing missing values\n",
    "df.isnull().sum()"
   ]
  },
  {
   "cell_type": "markdown",
   "metadata": {},
   "source": []
  },
  {
   "cell_type": "code",
   "execution_count": 14,
   "metadata": {},
   "outputs": [],
   "source": [
    "df=df.dropna(subset=['four_g'])"
   ]
  },
  {
   "cell_type": "code",
   "execution_count": 16,
   "metadata": {},
   "outputs": [
    {
     "data": {
      "text/plain": [
       "Unnamed: 0                   0\n",
       "id                           0\n",
       "battery_power                0\n",
       "blue                         0\n",
       "clock_speed                  0\n",
       "dual_sim                     0\n",
       "fc                           1\n",
       "four_g                       0\n",
       "int_memory                   0\n",
       "m_dep                        5\n",
       "mobile_wt                    1\n",
       "n_cores                      1\n",
       "pc                           3\n",
       "px_height                    0\n",
       "px_width                     0\n",
       "ram                          0\n",
       "sc_h                         0\n",
       "sc_w                         0\n",
       "talk_time                    0\n",
       "three_g                      0\n",
       "touch_screen                 0\n",
       "wifi                         0\n",
       "battery_efficiency           0\n",
       "screen_size_index            0\n",
       "camera_quality_index         0\n",
       "connectivity_index           0\n",
       "performance_index            0\n",
       "storage_capacity_index       0\n",
       "multitasking_capability      0\n",
       "display_resolution_index     0\n",
       "camera_resolution_index      0\n",
       "battery_longevity_index      0\n",
       "connectivity_memory_ratio    0\n",
       "dtype: int64"
      ]
     },
     "execution_count": 16,
     "metadata": {},
     "output_type": "execute_result"
    }
   ],
   "source": [
    "df.isnull().sum()"
   ]
  },
  {
   "cell_type": "code",
   "execution_count": 17,
   "metadata": {},
   "outputs": [],
   "source": [
    "df=df.dropna(subset=['m_dep'])\n",
    "df=df.dropna(subset=['mobile_wt'])\n",
    "df=df.dropna(subset=['n_cores'])\n",
    "df=df.dropna(subset=['pc'])\n",
    "df=df.dropna(subset=['fc'])\n"
   ]
  },
  {
   "cell_type": "code",
   "execution_count": 18,
   "metadata": {},
   "outputs": [
    {
     "data": {
      "text/plain": [
       "Unnamed: 0                   0\n",
       "id                           0\n",
       "battery_power                0\n",
       "blue                         0\n",
       "clock_speed                  0\n",
       "dual_sim                     0\n",
       "fc                           0\n",
       "four_g                       0\n",
       "int_memory                   0\n",
       "m_dep                        0\n",
       "mobile_wt                    0\n",
       "n_cores                      0\n",
       "pc                           0\n",
       "px_height                    0\n",
       "px_width                     0\n",
       "ram                          0\n",
       "sc_h                         0\n",
       "sc_w                         0\n",
       "talk_time                    0\n",
       "three_g                      0\n",
       "touch_screen                 0\n",
       "wifi                         0\n",
       "battery_efficiency           0\n",
       "screen_size_index            0\n",
       "camera_quality_index         0\n",
       "connectivity_index           0\n",
       "performance_index            0\n",
       "storage_capacity_index       0\n",
       "multitasking_capability      0\n",
       "display_resolution_index     0\n",
       "camera_resolution_index      0\n",
       "battery_longevity_index      0\n",
       "connectivity_memory_ratio    0\n",
       "dtype: int64"
      ]
     },
     "execution_count": 18,
     "metadata": {},
     "output_type": "execute_result"
    }
   ],
   "source": [
    "df.isnull().sum()"
   ]
  },
  {
   "cell_type": "code",
   "execution_count": 3,
   "metadata": {},
   "outputs": [
    {
     "name": "stdout",
     "output_type": "stream",
     "text": [
      "<class 'pandas.core.frame.DataFrame'>\n",
      "RangeIndex: 1000 entries, 0 to 999\n",
      "Data columns (total 33 columns):\n",
      " #   Column                     Non-Null Count  Dtype  \n",
      "---  ------                     --------------  -----  \n",
      " 0   Unnamed: 0                 1000 non-null   int64  \n",
      " 1   id                         1000 non-null   int64  \n",
      " 2   battery_power              1000 non-null   int64  \n",
      " 3   blue                       1000 non-null   int64  \n",
      " 4   clock_speed                1000 non-null   float64\n",
      " 5   dual_sim                   1000 non-null   int64  \n",
      " 6   fc                         998 non-null    float64\n",
      " 7   four_g                     999 non-null    float64\n",
      " 8   int_memory                 1000 non-null   int64  \n",
      " 9   m_dep                      994 non-null    float64\n",
      " 10  mobile_wt                  999 non-null    float64\n",
      " 11  n_cores                    999 non-null    float64\n",
      " 12  pc                         997 non-null    float64\n",
      " 13  px_height                  1000 non-null   int64  \n",
      " 14  px_width                   1000 non-null   int64  \n",
      " 15  ram                        1000 non-null   int64  \n",
      " 16  sc_h                       1000 non-null   int64  \n",
      " 17  sc_w                       1000 non-null   int64  \n",
      " 18  talk_time                  1000 non-null   int64  \n",
      " 19  three_g                    1000 non-null   int64  \n",
      " 20  touch_screen               1000 non-null   int64  \n",
      " 21  wifi                       1000 non-null   int64  \n",
      " 22  battery_efficiency         1000 non-null   int64  \n",
      " 23  screen_size_index          1000 non-null   int64  \n",
      " 24  camera_quality_index       1000 non-null   int64  \n",
      " 25  connectivity_index         1000 non-null   int64  \n",
      " 26  performance_index          1000 non-null   float64\n",
      " 27  storage_capacity_index     1000 non-null   int64  \n",
      " 28  multitasking_capability    1000 non-null   int64  \n",
      " 29  display_resolution_index   1000 non-null   int64  \n",
      " 30  camera_resolution_index    1000 non-null   int64  \n",
      " 31  battery_longevity_index    1000 non-null   int64  \n",
      " 32  connectivity_memory_ratio  1000 non-null   float64\n",
      "dtypes: float64(9), int64(24)\n",
      "memory usage: 257.9 KB\n"
     ]
    }
   ],
   "source": [
    "df.info()"
   ]
  },
  {
   "cell_type": "markdown",
   "metadata": {},
   "source": [
    "# MEAN bilan to'ldirish"
   ]
  },
  {
   "cell_type": "code",
   "execution_count": 7,
   "metadata": {},
   "outputs": [
    {
     "name": "stderr",
     "output_type": "stream",
     "text": [
      "C:\\Users\\sayfi\\AppData\\Local\\Temp\\ipykernel_4208\\2740183444.py:2: FutureWarning: A value is trying to be set on a copy of a DataFrame or Series through chained assignment using an inplace method.\n",
      "The behavior will change in pandas 3.0. This inplace method will never work because the intermediate object on which we are setting values always behaves as a copy.\n",
      "\n",
      "For example, when doing 'df[col].method(value, inplace=True)', try using 'df.method({col: value}, inplace=True)' or df[col] = df[col].method(value) instead, to perform the operation inplace on the original object.\n",
      "\n",
      "\n",
      "  df['fc'].fillna(df['fc'].mean(),inplace=True)\n"
     ]
    }
   ],
   "source": [
    "df['fc']=df['fc'].fillna(df['fc'].mean())        # bu ikki kod usuli ham birxildagi natija olib keladi\n",
    "df['fc'].fillna(df['fc'].mean(),inplace=True)"
   ]
  },
  {
   "cell_type": "code",
   "execution_count": 5,
   "metadata": {},
   "outputs": [
    {
     "data": {
      "text/plain": [
       "Unnamed: 0                   0\n",
       "id                           0\n",
       "battery_power                0\n",
       "blue                         0\n",
       "clock_speed                  0\n",
       "dual_sim                     0\n",
       "fc                           0\n",
       "four_g                       1\n",
       "int_memory                   0\n",
       "m_dep                        6\n",
       "mobile_wt                    1\n",
       "n_cores                      1\n",
       "pc                           3\n",
       "px_height                    0\n",
       "px_width                     0\n",
       "ram                          0\n",
       "sc_h                         0\n",
       "sc_w                         0\n",
       "talk_time                    0\n",
       "three_g                      0\n",
       "touch_screen                 0\n",
       "wifi                         0\n",
       "battery_efficiency           0\n",
       "screen_size_index            0\n",
       "camera_quality_index         0\n",
       "connectivity_index           0\n",
       "performance_index            0\n",
       "storage_capacity_index       0\n",
       "multitasking_capability      0\n",
       "display_resolution_index     0\n",
       "camera_resolution_index      0\n",
       "battery_longevity_index      0\n",
       "connectivity_memory_ratio    0\n",
       "dtype: int64"
      ]
     },
     "execution_count": 5,
     "metadata": {},
     "output_type": "execute_result"
    }
   ],
   "source": [
    "df.isnull().sum()"
   ]
  },
  {
   "cell_type": "code",
   "execution_count": 8,
   "metadata": {},
   "outputs": [],
   "source": [
    "df['n_cores']=df['n_cores'].fillna(df['n_cores'].mean())"
   ]
  },
  {
   "cell_type": "code",
   "execution_count": 10,
   "metadata": {},
   "outputs": [
    {
     "name": "stderr",
     "output_type": "stream",
     "text": [
      "C:\\Users\\sayfi\\AppData\\Local\\Temp\\ipykernel_4208\\2071007045.py:1: FutureWarning: A value is trying to be set on a copy of a DataFrame or Series through chained assignment using an inplace method.\n",
      "The behavior will change in pandas 3.0. This inplace method will never work because the intermediate object on which we are setting values always behaves as a copy.\n",
      "\n",
      "For example, when doing 'df[col].method(value, inplace=True)', try using 'df.method({col: value}, inplace=True)' or df[col] = df[col].method(value) instead, to perform the operation inplace on the original object.\n",
      "\n",
      "\n",
      "  df['pc'].fillna(df['pc'].mean(),inplace=True)\n"
     ]
    }
   ],
   "source": [
    "df['pc'].fillna(df['pc'].mean(),inplace=True)"
   ]
  },
  {
   "cell_type": "code",
   "execution_count": 12,
   "metadata": {},
   "outputs": [
    {
     "name": "stderr",
     "output_type": "stream",
     "text": [
      "C:\\Users\\sayfi\\AppData\\Local\\Temp\\ipykernel_4208\\2809640215.py:1: FutureWarning: A value is trying to be set on a copy of a DataFrame or Series through chained assignment using an inplace method.\n",
      "The behavior will change in pandas 3.0. This inplace method will never work because the intermediate object on which we are setting values always behaves as a copy.\n",
      "\n",
      "For example, when doing 'df[col].method(value, inplace=True)', try using 'df.method({col: value}, inplace=True)' or df[col] = df[col].method(value) instead, to perform the operation inplace on the original object.\n",
      "\n",
      "\n",
      "  df['m_dep'].fillna(df['m_dep'].mean(),inplace=True)\n"
     ]
    }
   ],
   "source": [
    "df['m_dep'].fillna(df['m_dep'].mean(),inplace=True)"
   ]
  },
  {
   "cell_type": "code",
   "execution_count": 13,
   "metadata": {},
   "outputs": [],
   "source": [
    "df['mobile_wt']=df['mobile_wt'].fillna(df['mobile_wt'].mean())"
   ]
  },
  {
   "cell_type": "code",
   "execution_count": 14,
   "metadata": {},
   "outputs": [
    {
     "name": "stderr",
     "output_type": "stream",
     "text": [
      "C:\\Users\\sayfi\\AppData\\Local\\Temp\\ipykernel_4208\\2796082074.py:1: FutureWarning: A value is trying to be set on a copy of a DataFrame or Series through chained assignment using an inplace method.\n",
      "The behavior will change in pandas 3.0. This inplace method will never work because the intermediate object on which we are setting values always behaves as a copy.\n",
      "\n",
      "For example, when doing 'df[col].method(value, inplace=True)', try using 'df.method({col: value}, inplace=True)' or df[col] = df[col].method(value) instead, to perform the operation inplace on the original object.\n",
      "\n",
      "\n",
      "  df['four_g'].fillna(df['four_g'].mean(),inplace=True)\n"
     ]
    }
   ],
   "source": [
    "df['four_g'].fillna(df['four_g'].mean(),inplace=True)"
   ]
  },
  {
   "cell_type": "code",
   "execution_count": 15,
   "metadata": {},
   "outputs": [
    {
     "data": {
      "text/plain": [
       "Unnamed: 0                   0\n",
       "id                           0\n",
       "battery_power                0\n",
       "blue                         0\n",
       "clock_speed                  0\n",
       "dual_sim                     0\n",
       "fc                           0\n",
       "four_g                       0\n",
       "int_memory                   0\n",
       "m_dep                        0\n",
       "mobile_wt                    0\n",
       "n_cores                      0\n",
       "pc                           0\n",
       "px_height                    0\n",
       "px_width                     0\n",
       "ram                          0\n",
       "sc_h                         0\n",
       "sc_w                         0\n",
       "talk_time                    0\n",
       "three_g                      0\n",
       "touch_screen                 0\n",
       "wifi                         0\n",
       "battery_efficiency           0\n",
       "screen_size_index            0\n",
       "camera_quality_index         0\n",
       "connectivity_index           0\n",
       "performance_index            0\n",
       "storage_capacity_index       0\n",
       "multitasking_capability      0\n",
       "display_resolution_index     0\n",
       "camera_resolution_index      0\n",
       "battery_longevity_index      0\n",
       "connectivity_memory_ratio    0\n",
       "dtype: int64"
      ]
     },
     "execution_count": 15,
     "metadata": {},
     "output_type": "execute_result"
    }
   ],
   "source": [
    "df.isnull().sum()"
   ]
  },
  {
   "cell_type": "code",
   "execution_count": 3,
   "metadata": {},
   "outputs": [
    {
     "name": "stdout",
     "output_type": "stream",
     "text": [
      "<class 'pandas.core.frame.DataFrame'>\n",
      "RangeIndex: 1000 entries, 0 to 999\n",
      "Data columns (total 33 columns):\n",
      " #   Column                     Non-Null Count  Dtype  \n",
      "---  ------                     --------------  -----  \n",
      " 0   Unnamed: 0                 1000 non-null   int64  \n",
      " 1   id                         1000 non-null   int64  \n",
      " 2   battery_power              1000 non-null   int64  \n",
      " 3   blue                       1000 non-null   int64  \n",
      " 4   clock_speed                1000 non-null   float64\n",
      " 5   dual_sim                   1000 non-null   int64  \n",
      " 6   fc                         998 non-null    float64\n",
      " 7   four_g                     999 non-null    float64\n",
      " 8   int_memory                 1000 non-null   int64  \n",
      " 9   m_dep                      994 non-null    float64\n",
      " 10  mobile_wt                  999 non-null    float64\n",
      " 11  n_cores                    999 non-null    float64\n",
      " 12  pc                         997 non-null    float64\n",
      " 13  px_height                  1000 non-null   int64  \n",
      " 14  px_width                   1000 non-null   int64  \n",
      " 15  ram                        1000 non-null   int64  \n",
      " 16  sc_h                       1000 non-null   int64  \n",
      " 17  sc_w                       1000 non-null   int64  \n",
      " 18  talk_time                  1000 non-null   int64  \n",
      " 19  three_g                    1000 non-null   int64  \n",
      " 20  touch_screen               1000 non-null   int64  \n",
      " 21  wifi                       1000 non-null   int64  \n",
      " 22  battery_efficiency         1000 non-null   int64  \n",
      " 23  screen_size_index          1000 non-null   int64  \n",
      " 24  camera_quality_index       1000 non-null   int64  \n",
      " 25  connectivity_index         1000 non-null   int64  \n",
      " 26  performance_index          1000 non-null   float64\n",
      " 27  storage_capacity_index     1000 non-null   int64  \n",
      " 28  multitasking_capability    1000 non-null   int64  \n",
      " 29  display_resolution_index   1000 non-null   int64  \n",
      " 30  camera_resolution_index    1000 non-null   int64  \n",
      " 31  battery_longevity_index    1000 non-null   int64  \n",
      " 32  connectivity_memory_ratio  1000 non-null   float64\n",
      "dtypes: float64(9), int64(24)\n",
      "memory usage: 257.9 KB\n"
     ]
    }
   ],
   "source": [
    "df.info()"
   ]
  },
  {
   "cell_type": "code",
   "execution_count": 6,
   "metadata": {},
   "outputs": [
    {
     "data": {
      "text/plain": [
       "np.int64(998)"
      ]
     },
     "execution_count": 6,
     "metadata": {},
     "output_type": "execute_result"
    }
   ],
   "source": [
    "# mode blan to'ldirish\n",
    "df['fc'].value_counts().sum()"
   ]
  },
  {
   "cell_type": "code",
   "execution_count": 8,
   "metadata": {},
   "outputs": [
    {
     "data": {
      "text/plain": [
       "fc\n",
       "0.0     209\n",
       "1.0     124\n",
       "2.0      97\n",
       "4.0      80\n",
       "5.0      73\n",
       "3.0      70\n",
       "6.0      59\n",
       "7.0      50\n",
       "9.0      41\n",
       "8.0      38\n",
       "10.0     37\n",
       "11.0     29\n",
       "13.0     21\n",
       "12.0     17\n",
       "14.0     16\n",
       "15.0     12\n",
       "16.0     11\n",
       "18.0     10\n",
       "17.0      2\n",
       "19.0      2\n",
       "Name: count, dtype: int64"
      ]
     },
     "execution_count": 8,
     "metadata": {},
     "output_type": "execute_result"
    }
   ],
   "source": [
    "df['fc'].value_counts()"
   ]
  },
  {
   "cell_type": "code",
   "execution_count": 10,
   "metadata": {},
   "outputs": [],
   "source": [
    "df['fc'].fillna(df['fc'].mode()[0], inplace=True)"
   ]
  },
  {
   "cell_type": "code",
   "execution_count": 11,
   "metadata": {},
   "outputs": [
    {
     "data": {
      "text/plain": [
       "Unnamed: 0                   0\n",
       "id                           0\n",
       "battery_power                0\n",
       "blue                         0\n",
       "clock_speed                  0\n",
       "dual_sim                     0\n",
       "fc                           0\n",
       "four_g                       1\n",
       "int_memory                   0\n",
       "m_dep                        6\n",
       "mobile_wt                    1\n",
       "n_cores                      1\n",
       "pc                           3\n",
       "px_height                    0\n",
       "px_width                     0\n",
       "ram                          0\n",
       "sc_h                         0\n",
       "sc_w                         0\n",
       "talk_time                    0\n",
       "three_g                      0\n",
       "touch_screen                 0\n",
       "wifi                         0\n",
       "battery_efficiency           0\n",
       "screen_size_index            0\n",
       "camera_quality_index         0\n",
       "connectivity_index           0\n",
       "performance_index            0\n",
       "storage_capacity_index       0\n",
       "multitasking_capability      0\n",
       "display_resolution_index     0\n",
       "camera_resolution_index      0\n",
       "battery_longevity_index      0\n",
       "connectivity_memory_ratio    0\n",
       "dtype: int64"
      ]
     },
     "execution_count": 11,
     "metadata": {},
     "output_type": "execute_result"
    }
   ],
   "source": [
    "df.isnull().sum()"
   ]
  },
  {
   "cell_type": "code",
   "execution_count": 12,
   "metadata": {},
   "outputs": [
    {
     "name": "stderr",
     "output_type": "stream",
     "text": [
      "C:\\Users\\sayfi\\AppData\\Local\\Temp\\ipykernel_9372\\4142052782.py:1: FutureWarning: A value is trying to be set on a copy of a DataFrame or Series through chained assignment using an inplace method.\n",
      "The behavior will change in pandas 3.0. This inplace method will never work because the intermediate object on which we are setting values always behaves as a copy.\n",
      "\n",
      "For example, when doing 'df[col].method(value, inplace=True)', try using 'df.method({col: value}, inplace=True)' or df[col] = df[col].method(value) instead, to perform the operation inplace on the original object.\n",
      "\n",
      "\n",
      "  df['four_g'].fillna(df['four_g'].mode()[0], inplace=True)\n"
     ]
    }
   ],
   "source": [
    "df['four_g'].fillna(df['four_g'].mode()[0], inplace=True)"
   ]
  },
  {
   "cell_type": "code",
   "execution_count": 13,
   "metadata": {},
   "outputs": [
    {
     "name": "stderr",
     "output_type": "stream",
     "text": [
      "C:\\Users\\sayfi\\AppData\\Local\\Temp\\ipykernel_9372\\2819967826.py:1: FutureWarning: A value is trying to be set on a copy of a DataFrame or Series through chained assignment using an inplace method.\n",
      "The behavior will change in pandas 3.0. This inplace method will never work because the intermediate object on which we are setting values always behaves as a copy.\n",
      "\n",
      "For example, when doing 'df[col].method(value, inplace=True)', try using 'df.method({col: value}, inplace=True)' or df[col] = df[col].method(value) instead, to perform the operation inplace on the original object.\n",
      "\n",
      "\n",
      "  df['mobile_wt'].fillna(df['mobile_wt'].mode()[0],inplace=True)\n"
     ]
    }
   ],
   "source": [
    "df['mobile_wt'].fillna(df['mobile_wt'].mode()[0],inplace=True)"
   ]
  },
  {
   "cell_type": "code",
   "execution_count": 20,
   "metadata": {},
   "outputs": [
    {
     "name": "stderr",
     "output_type": "stream",
     "text": [
      "C:\\Users\\sayfi\\AppData\\Local\\Temp\\ipykernel_9372\\755408939.py:1: FutureWarning: A value is trying to be set on a copy of a DataFrame or Series through chained assignment using an inplace method.\n",
      "The behavior will change in pandas 3.0. This inplace method will never work because the intermediate object on which we are setting values always behaves as a copy.\n",
      "\n",
      "For example, when doing 'df[col].method(value, inplace=True)', try using 'df.method({col: value}, inplace=True)' or df[col] = df[col].method(value) instead, to perform the operation inplace on the original object.\n",
      "\n",
      "\n",
      "  df['m_dep'].fillna(df['m_dep'].mode()[0],inplace=True)\n"
     ]
    }
   ],
   "source": [
    "df['m_dep'].fillna(df['m_dep'].mode()[0],inplace=True)"
   ]
  },
  {
   "cell_type": "code",
   "execution_count": 21,
   "metadata": {},
   "outputs": [
    {
     "data": {
      "text/plain": [
       "Unnamed: 0                   0\n",
       "id                           0\n",
       "battery_power                0\n",
       "blue                         0\n",
       "clock_speed                  0\n",
       "dual_sim                     0\n",
       "fc                           0\n",
       "four_g                       0\n",
       "int_memory                   0\n",
       "m_dep                        0\n",
       "mobile_wt                    0\n",
       "n_cores                      1\n",
       "pc                           3\n",
       "px_height                    0\n",
       "px_width                     0\n",
       "ram                          0\n",
       "sc_h                         0\n",
       "sc_w                         0\n",
       "talk_time                    0\n",
       "three_g                      0\n",
       "touch_screen                 0\n",
       "wifi                         0\n",
       "battery_efficiency           0\n",
       "screen_size_index            0\n",
       "camera_quality_index         0\n",
       "connectivity_index           0\n",
       "performance_index            0\n",
       "storage_capacity_index       0\n",
       "multitasking_capability      0\n",
       "display_resolution_index     0\n",
       "camera_resolution_index      0\n",
       "battery_longevity_index      0\n",
       "connectivity_memory_ratio    0\n",
       "dtype: int64"
      ]
     },
     "execution_count": 21,
     "metadata": {},
     "output_type": "execute_result"
    }
   ],
   "source": [
    "df.isnull().sum()"
   ]
  },
  {
   "cell_type": "code",
   "execution_count": 30,
   "metadata": {},
   "outputs": [
    {
     "name": "stderr",
     "output_type": "stream",
     "text": [
      "C:\\Users\\sayfi\\AppData\\Local\\Temp\\ipykernel_9372\\1534611014.py:1: FutureWarning: A value is trying to be set on a copy of a DataFrame or Series through chained assignment using an inplace method.\n",
      "The behavior will change in pandas 3.0. This inplace method will never work because the intermediate object on which we are setting values always behaves as a copy.\n",
      "\n",
      "For example, when doing 'df[col].method(value, inplace=True)', try using 'df.method({col: value}, inplace=True)' or df[col] = df[col].method(value) instead, to perform the operation inplace on the original object.\n",
      "\n",
      "\n",
      "  df['n_cores'].fillna(df['n_cores'].mode()[0],inplace=True)\n"
     ]
    }
   ],
   "source": [
    "df['n_cores'].fillna(df['n_cores'].mode()[0],inplace=True)"
   ]
  },
  {
   "cell_type": "code",
   "execution_count": 31,
   "metadata": {},
   "outputs": [
    {
     "data": {
      "text/plain": [
       "Unnamed: 0                      0\n",
       "id                              0\n",
       "battery_power                   0\n",
       "blue                            0\n",
       "clock_speed                     0\n",
       "dual_sim                        0\n",
       "fc                              0\n",
       "four_g                          0\n",
       "int_memory                      0\n",
       "m_dep                           0\n",
       "mobile_wt                       0\n",
       "n_cores                         0\n",
       "pc                           1000\n",
       "px_height                       0\n",
       "px_width                        0\n",
       "ram                             0\n",
       "sc_h                            0\n",
       "sc_w                            0\n",
       "talk_time                       0\n",
       "three_g                         0\n",
       "touch_screen                    0\n",
       "wifi                            0\n",
       "battery_efficiency              0\n",
       "screen_size_index               0\n",
       "camera_quality_index            0\n",
       "connectivity_index              0\n",
       "performance_index               0\n",
       "storage_capacity_index          0\n",
       "multitasking_capability         0\n",
       "display_resolution_index        0\n",
       "camera_resolution_index         0\n",
       "battery_longevity_index         0\n",
       "connectivity_memory_ratio       0\n",
       "dtype: int64"
      ]
     },
     "execution_count": 31,
     "metadata": {},
     "output_type": "execute_result"
    }
   ],
   "source": [
    "df.isnull().sum()"
   ]
  },
  {
   "cell_type": "code",
   "execution_count": 34,
   "metadata": {},
   "outputs": [],
   "source": [
    "df=df.dropna(subset=['pc'])"
   ]
  },
  {
   "cell_type": "code",
   "execution_count": 35,
   "metadata": {},
   "outputs": [
    {
     "data": {
      "text/plain": [
       "Unnamed: 0                   0\n",
       "id                           0\n",
       "battery_power                0\n",
       "blue                         0\n",
       "clock_speed                  0\n",
       "dual_sim                     0\n",
       "fc                           0\n",
       "four_g                       0\n",
       "int_memory                   0\n",
       "m_dep                        0\n",
       "mobile_wt                    0\n",
       "n_cores                      0\n",
       "pc                           0\n",
       "px_height                    0\n",
       "px_width                     0\n",
       "ram                          0\n",
       "sc_h                         0\n",
       "sc_w                         0\n",
       "talk_time                    0\n",
       "three_g                      0\n",
       "touch_screen                 0\n",
       "wifi                         0\n",
       "battery_efficiency           0\n",
       "screen_size_index            0\n",
       "camera_quality_index         0\n",
       "connectivity_index           0\n",
       "performance_index            0\n",
       "storage_capacity_index       0\n",
       "multitasking_capability      0\n",
       "display_resolution_index     0\n",
       "camera_resolution_index      0\n",
       "battery_longevity_index      0\n",
       "connectivity_memory_ratio    0\n",
       "dtype: int64"
      ]
     },
     "execution_count": 35,
     "metadata": {},
     "output_type": "execute_result"
    }
   ],
   "source": [
    "df.isnull().sum()"
   ]
  },
  {
   "cell_type": "code",
   "execution_count": 36,
   "metadata": {},
   "outputs": [
    {
     "name": "stdout",
     "output_type": "stream",
     "text": [
      "<class 'pandas.core.frame.DataFrame'>\n",
      "Index: 0 entries\n",
      "Data columns (total 33 columns):\n",
      " #   Column                     Non-Null Count  Dtype  \n",
      "---  ------                     --------------  -----  \n",
      " 0   Unnamed: 0                 0 non-null      int64  \n",
      " 1   id                         0 non-null      int64  \n",
      " 2   battery_power              0 non-null      int64  \n",
      " 3   blue                       0 non-null      int64  \n",
      " 4   clock_speed                0 non-null      float64\n",
      " 5   dual_sim                   0 non-null      int64  \n",
      " 6   fc                         0 non-null      float64\n",
      " 7   four_g                     0 non-null      float64\n",
      " 8   int_memory                 0 non-null      int64  \n",
      " 9   m_dep                      0 non-null      float64\n",
      " 10  mobile_wt                  0 non-null      float64\n",
      " 11  n_cores                    0 non-null      float64\n",
      " 12  pc                         0 non-null      float64\n",
      " 13  px_height                  0 non-null      int64  \n",
      " 14  px_width                   0 non-null      int64  \n",
      " 15  ram                        0 non-null      int64  \n",
      " 16  sc_h                       0 non-null      int64  \n",
      " 17  sc_w                       0 non-null      int64  \n",
      " 18  talk_time                  0 non-null      int64  \n",
      " 19  three_g                    0 non-null      int64  \n",
      " 20  touch_screen               0 non-null      int64  \n",
      " 21  wifi                       0 non-null      int64  \n",
      " 22  battery_efficiency         0 non-null      int64  \n",
      " 23  screen_size_index          0 non-null      int64  \n",
      " 24  camera_quality_index       0 non-null      int64  \n",
      " 25  connectivity_index         0 non-null      int64  \n",
      " 26  performance_index          0 non-null      float64\n",
      " 27  storage_capacity_index     0 non-null      int64  \n",
      " 28  multitasking_capability    0 non-null      int64  \n",
      " 29  display_resolution_index   0 non-null      int64  \n",
      " 30  camera_resolution_index    0 non-null      int64  \n",
      " 31  battery_longevity_index    0 non-null      int64  \n",
      " 32  connectivity_memory_ratio  0 non-null      float64\n",
      "dtypes: float64(9), int64(24)\n",
      "memory usage: 0.0 bytes\n"
     ]
    }
   ],
   "source": [
    "df.info()"
   ]
  },
  {
   "cell_type": "code",
   "execution_count": null,
   "metadata": {},
   "outputs": [],
   "source": [
    "# df['data'].fillna(2, inplace=True)"
   ]
  },
  {
   "cell_type": "markdown",
   "metadata": {},
   "source": [
    "df['data'].fillna(2, inplace=True) # bu \"Fixed\" to'ldirish usulining kodi\n",
    "bu kodda asosan o'zimiz tushub qolgan qiymat o'rniga qiymat tanlaymiz"
   ]
  },
  {
   "cell_type": "code",
   "execution_count": null,
   "metadata": {},
   "outputs": [],
   "source": [
    "# df['data'].fillna(df['data'].median(), inplace=True)"
   ]
  },
  {
   "cell_type": "markdown",
   "metadata": {},
   "source": [
    "df['data'].fillna(df['data'].median(), inplace=True) # mediyan tushubqolgan qiymatni to'ldirish kodi"
   ]
  },
  {
   "cell_type": "code",
   "execution_count": 3,
   "metadata": {},
   "outputs": [
    {
     "name": "stdout",
     "output_type": "stream",
     "text": [
      "<class 'pandas.core.frame.DataFrame'>\n",
      "RangeIndex: 1000 entries, 0 to 999\n",
      "Data columns (total 33 columns):\n",
      " #   Column                     Non-Null Count  Dtype  \n",
      "---  ------                     --------------  -----  \n",
      " 0   Unnamed: 0                 1000 non-null   int64  \n",
      " 1   id                         1000 non-null   int64  \n",
      " 2   battery_power              1000 non-null   int64  \n",
      " 3   blue                       1000 non-null   int64  \n",
      " 4   clock_speed                1000 non-null   float64\n",
      " 5   dual_sim                   1000 non-null   int64  \n",
      " 6   fc                         998 non-null    float64\n",
      " 7   four_g                     999 non-null    float64\n",
      " 8   int_memory                 1000 non-null   int64  \n",
      " 9   m_dep                      994 non-null    float64\n",
      " 10  mobile_wt                  999 non-null    float64\n",
      " 11  n_cores                    999 non-null    float64\n",
      " 12  pc                         997 non-null    float64\n",
      " 13  px_height                  1000 non-null   int64  \n",
      " 14  px_width                   1000 non-null   int64  \n",
      " 15  ram                        1000 non-null   int64  \n",
      " 16  sc_h                       1000 non-null   int64  \n",
      " 17  sc_w                       1000 non-null   int64  \n",
      " 18  talk_time                  1000 non-null   int64  \n",
      " 19  three_g                    1000 non-null   int64  \n",
      " 20  touch_screen               1000 non-null   int64  \n",
      " 21  wifi                       1000 non-null   int64  \n",
      " 22  battery_efficiency         1000 non-null   int64  \n",
      " 23  screen_size_index          1000 non-null   int64  \n",
      " 24  camera_quality_index       1000 non-null   int64  \n",
      " 25  connectivity_index         1000 non-null   int64  \n",
      " 26  performance_index          1000 non-null   float64\n",
      " 27  storage_capacity_index     1000 non-null   int64  \n",
      " 28  multitasking_capability    1000 non-null   int64  \n",
      " 29  display_resolution_index   1000 non-null   int64  \n",
      " 30  camera_resolution_index    1000 non-null   int64  \n",
      " 31  battery_longevity_index    1000 non-null   int64  \n",
      " 32  connectivity_memory_ratio  1000 non-null   float64\n",
      "dtypes: float64(9), int64(24)\n",
      "memory usage: 257.9 KB\n"
     ]
    }
   ],
   "source": [
    "df.info()"
   ]
  },
  {
   "cell_type": "code",
   "execution_count": 5,
   "metadata": {},
   "outputs": [],
   "source": [
    "df['four_g'].fillna(df['four_g'].mean(), inplace=True)"
   ]
  },
  {
   "cell_type": "markdown",
   "metadata": {},
   "source": []
  },
  {
   "cell_type": "code",
   "execution_count": 6,
   "metadata": {},
   "outputs": [
    {
     "name": "stderr",
     "output_type": "stream",
     "text": [
      "C:\\Users\\sayfi\\AppData\\Local\\Temp\\ipykernel_3760\\4076051027.py:1: FutureWarning: A value is trying to be set on a copy of a DataFrame or Series through chained assignment using an inplace method.\n",
      "The behavior will change in pandas 3.0. This inplace method will never work because the intermediate object on which we are setting values always behaves as a copy.\n",
      "\n",
      "For example, when doing 'df[col].method(value, inplace=True)', try using 'df.method({col: value}, inplace=True)' or df[col] = df[col].method(value) instead, to perform the operation inplace on the original object.\n",
      "\n",
      "\n",
      "  df['fc'].fillna(df['fc'].median(), inplace=True)\n"
     ]
    }
   ],
   "source": [
    "df['fc'].fillna(df['fc'].median(), inplace=True)"
   ]
  },
  {
   "cell_type": "code",
   "execution_count": 7,
   "metadata": {},
   "outputs": [
    {
     "data": {
      "text/plain": [
       "Unnamed: 0                   0\n",
       "id                           0\n",
       "battery_power                0\n",
       "blue                         0\n",
       "clock_speed                  0\n",
       "dual_sim                     0\n",
       "fc                           0\n",
       "four_g                       0\n",
       "int_memory                   0\n",
       "m_dep                        6\n",
       "mobile_wt                    1\n",
       "n_cores                      1\n",
       "pc                           3\n",
       "px_height                    0\n",
       "px_width                     0\n",
       "ram                          0\n",
       "sc_h                         0\n",
       "sc_w                         0\n",
       "talk_time                    0\n",
       "three_g                      0\n",
       "touch_screen                 0\n",
       "wifi                         0\n",
       "battery_efficiency           0\n",
       "screen_size_index            0\n",
       "camera_quality_index         0\n",
       "connectivity_index           0\n",
       "performance_index            0\n",
       "storage_capacity_index       0\n",
       "multitasking_capability      0\n",
       "display_resolution_index     0\n",
       "camera_resolution_index      0\n",
       "battery_longevity_index      0\n",
       "connectivity_memory_ratio    0\n",
       "dtype: int64"
      ]
     },
     "execution_count": 7,
     "metadata": {},
     "output_type": "execute_result"
    }
   ],
   "source": [
    "df.isnull().sum()"
   ]
  },
  {
   "cell_type": "code",
   "execution_count": 8,
   "metadata": {},
   "outputs": [
    {
     "name": "stderr",
     "output_type": "stream",
     "text": [
      "C:\\Users\\sayfi\\AppData\\Local\\Temp\\ipykernel_3760\\2809640215.py:1: FutureWarning: A value is trying to be set on a copy of a DataFrame or Series through chained assignment using an inplace method.\n",
      "The behavior will change in pandas 3.0. This inplace method will never work because the intermediate object on which we are setting values always behaves as a copy.\n",
      "\n",
      "For example, when doing 'df[col].method(value, inplace=True)', try using 'df.method({col: value}, inplace=True)' or df[col] = df[col].method(value) instead, to perform the operation inplace on the original object.\n",
      "\n",
      "\n",
      "  df['m_dep'].fillna(df['m_dep'].mean(),inplace=True)\n"
     ]
    }
   ],
   "source": [
    "df['m_dep'].fillna(df['m_dep'].mean(),inplace=True)"
   ]
  },
  {
   "cell_type": "code",
   "execution_count": 10,
   "metadata": {},
   "outputs": [
    {
     "data": {
      "text/plain": [
       "Unnamed: 0                   0\n",
       "id                           0\n",
       "battery_power                0\n",
       "blue                         0\n",
       "clock_speed                  0\n",
       "dual_sim                     0\n",
       "fc                           0\n",
       "four_g                       0\n",
       "int_memory                   0\n",
       "m_dep                        0\n",
       "mobile_wt                    1\n",
       "n_cores                      1\n",
       "pc                           3\n",
       "px_height                    0\n",
       "px_width                     0\n",
       "ram                          0\n",
       "sc_h                         0\n",
       "sc_w                         0\n",
       "talk_time                    0\n",
       "three_g                      0\n",
       "touch_screen                 0\n",
       "wifi                         0\n",
       "battery_efficiency           0\n",
       "screen_size_index            0\n",
       "camera_quality_index         0\n",
       "connectivity_index           0\n",
       "performance_index            0\n",
       "storage_capacity_index       0\n",
       "multitasking_capability      0\n",
       "display_resolution_index     0\n",
       "camera_resolution_index      0\n",
       "battery_longevity_index      0\n",
       "connectivity_memory_ratio    0\n",
       "dtype: int64"
      ]
     },
     "execution_count": 10,
     "metadata": {},
     "output_type": "execute_result"
    }
   ],
   "source": [
    "df.isnull().sum()"
   ]
  },
  {
   "cell_type": "code",
   "execution_count": 11,
   "metadata": {},
   "outputs": [
    {
     "name": "stdout",
     "output_type": "stream",
     "text": [
      "<class 'pandas.core.frame.DataFrame'>\n",
      "RangeIndex: 1000 entries, 0 to 999\n",
      "Data columns (total 33 columns):\n",
      " #   Column                     Non-Null Count  Dtype  \n",
      "---  ------                     --------------  -----  \n",
      " 0   Unnamed: 0                 1000 non-null   int64  \n",
      " 1   id                         1000 non-null   int64  \n",
      " 2   battery_power              1000 non-null   int64  \n",
      " 3   blue                       1000 non-null   int64  \n",
      " 4   clock_speed                1000 non-null   float64\n",
      " 5   dual_sim                   1000 non-null   int64  \n",
      " 6   fc                         1000 non-null   float64\n",
      " 7   four_g                     1000 non-null   float64\n",
      " 8   int_memory                 1000 non-null   int64  \n",
      " 9   m_dep                      1000 non-null   float64\n",
      " 10  mobile_wt                  999 non-null    float64\n",
      " 11  n_cores                    999 non-null    float64\n",
      " 12  pc                         997 non-null    float64\n",
      " 13  px_height                  1000 non-null   int64  \n",
      " 14  px_width                   1000 non-null   int64  \n",
      " 15  ram                        1000 non-null   int64  \n",
      " 16  sc_h                       1000 non-null   int64  \n",
      " 17  sc_w                       1000 non-null   int64  \n",
      " 18  talk_time                  1000 non-null   int64  \n",
      " 19  three_g                    1000 non-null   int64  \n",
      " 20  touch_screen               1000 non-null   int64  \n",
      " 21  wifi                       1000 non-null   int64  \n",
      " 22  battery_efficiency         1000 non-null   int64  \n",
      " 23  screen_size_index          1000 non-null   int64  \n",
      " 24  camera_quality_index       1000 non-null   int64  \n",
      " 25  connectivity_index         1000 non-null   int64  \n",
      " 26  performance_index          1000 non-null   float64\n",
      " 27  storage_capacity_index     1000 non-null   int64  \n",
      " 28  multitasking_capability    1000 non-null   int64  \n",
      " 29  display_resolution_index   1000 non-null   int64  \n",
      " 30  camera_resolution_index    1000 non-null   int64  \n",
      " 31  battery_longevity_index    1000 non-null   int64  \n",
      " 32  connectivity_memory_ratio  1000 non-null   float64\n",
      "dtypes: float64(9), int64(24)\n",
      "memory usage: 257.9 KB\n"
     ]
    }
   ],
   "source": [
    "df.info()"
   ]
  },
  {
   "cell_type": "code",
   "execution_count": 13,
   "metadata": {},
   "outputs": [],
   "source": [
    "# claslarni aniqlash\n",
    "#      len(df['data'].value_counts())"
   ]
  },
  {
   "cell_type": "code",
   "execution_count": 16,
   "metadata": {},
   "outputs": [
    {
     "data": {
      "text/plain": [
       "121"
      ]
     },
     "execution_count": 16,
     "metadata": {},
     "output_type": "execute_result"
    }
   ],
   "source": [
    "len(df['mobile_wt'].value_counts())"
   ]
  },
  {
   "cell_type": "code",
   "execution_count": 19,
   "metadata": {},
   "outputs": [
    {
     "name": "stdout",
     "output_type": "stream",
     "text": [
      "<class 'pandas.core.frame.DataFrame'>\n",
      "RangeIndex: 1000 entries, 0 to 999\n",
      "Data columns (total 33 columns):\n",
      " #   Column                     Non-Null Count  Dtype  \n",
      "---  ------                     --------------  -----  \n",
      " 0   Unnamed: 0                 1000 non-null   int64  \n",
      " 1   id                         1000 non-null   int64  \n",
      " 2   battery_power              1000 non-null   int64  \n",
      " 3   blue                       1000 non-null   int64  \n",
      " 4   clock_speed                1000 non-null   float64\n",
      " 5   dual_sim                   1000 non-null   int64  \n",
      " 6   fc                         1000 non-null   float64\n",
      " 7   four_g                     1000 non-null   float64\n",
      " 8   int_memory                 1000 non-null   int64  \n",
      " 9   m_dep                      1000 non-null   float64\n",
      " 10  mobile_wt                  999 non-null    float64\n",
      " 11  n_cores                    999 non-null    float64\n",
      " 12  pc                         997 non-null    float64\n",
      " 13  px_height                  1000 non-null   int64  \n",
      " 14  px_width                   1000 non-null   int64  \n",
      " 15  ram                        1000 non-null   int64  \n",
      " 16  sc_h                       1000 non-null   int64  \n",
      " 17  sc_w                       1000 non-null   int64  \n",
      " 18  talk_time                  1000 non-null   int64  \n",
      " 19  three_g                    1000 non-null   int64  \n",
      " 20  touch_screen               1000 non-null   int64  \n",
      " 21  wifi                       1000 non-null   int64  \n",
      " 22  battery_efficiency         1000 non-null   int64  \n",
      " 23  screen_size_index          1000 non-null   int64  \n",
      " 24  camera_quality_index       1000 non-null   int64  \n",
      " 25  connectivity_index         1000 non-null   int64  \n",
      " 26  performance_index          1000 non-null   float64\n",
      " 27  storage_capacity_index     1000 non-null   int64  \n",
      " 28  multitasking_capability    1000 non-null   int64  \n",
      " 29  display_resolution_index   1000 non-null   int64  \n",
      " 30  camera_resolution_index    1000 non-null   int64  \n",
      " 31  battery_longevity_index    1000 non-null   int64  \n",
      " 32  connectivity_memory_ratio  1000 non-null   float64\n",
      "dtypes: float64(9), int64(24)\n",
      "memory usage: 257.9 KB\n"
     ]
    }
   ],
   "source": [
    "df.info()"
   ]
  },
  {
   "cell_type": "code",
   "execution_count": 20,
   "metadata": {},
   "outputs": [
    {
     "ename": "ModuleNotFoundError",
     "evalue": "No module named 'sklearn'",
     "output_type": "error",
     "traceback": [
      "\u001b[1;31m---------------------------------------------------------------------------\u001b[0m",
      "\u001b[1;31mModuleNotFoundError\u001b[0m                       Traceback (most recent call last)",
      "Cell \u001b[1;32mIn[20], line 1\u001b[0m\n\u001b[1;32m----> 1\u001b[0m \u001b[38;5;28;01mfrom\u001b[39;00m\u001b[38;5;250m \u001b[39m\u001b[38;5;21;01msklearn\u001b[39;00m\u001b[38;5;21;01m.\u001b[39;00m\u001b[38;5;21;01mpreprocessing\u001b[39;00m\u001b[38;5;250m \u001b[39m\u001b[38;5;28;01mimport\u001b[39;00m OneHotEncoder,LabelEncoder\n",
      "\u001b[1;31mModuleNotFoundError\u001b[0m: No module named 'sklearn'"
     ]
    }
   ],
   "source": [
    "from sklearn.preprocessing import OneHotEncoder,LabelEncoder"
   ]
  },
  {
   "cell_type": "code",
   "execution_count": 21,
   "metadata": {},
   "outputs": [
    {
     "ename": "NameError",
     "evalue": "name 'LabelEncoder' is not defined",
     "output_type": "error",
     "traceback": [
      "\u001b[1;31m---------------------------------------------------------------------------\u001b[0m",
      "\u001b[1;31mNameError\u001b[0m                                 Traceback (most recent call last)",
      "Cell \u001b[1;32mIn[21], line 1\u001b[0m\n\u001b[1;32m----> 1\u001b[0m encoder\u001b[38;5;241m=\u001b[39m\u001b[43mLabelEncoder\u001b[49m()\n",
      "\u001b[1;31mNameError\u001b[0m: name 'LabelEncoder' is not defined"
     ]
    }
   ],
   "source": [
    "encoder=LabelEncoder()"
   ]
  },
  {
   "cell_type": "code",
   "execution_count": 22,
   "metadata": {},
   "outputs": [
    {
     "name": "stdout",
     "output_type": "stream",
     "text": [
      "<class 'pandas.core.frame.DataFrame'>\n",
      "RangeIndex: 1000 entries, 0 to 999\n",
      "Data columns (total 33 columns):\n",
      " #   Column                     Non-Null Count  Dtype  \n",
      "---  ------                     --------------  -----  \n",
      " 0   Unnamed: 0                 1000 non-null   int64  \n",
      " 1   id                         1000 non-null   int64  \n",
      " 2   battery_power              1000 non-null   int64  \n",
      " 3   blue                       1000 non-null   int64  \n",
      " 4   clock_speed                1000 non-null   float64\n",
      " 5   dual_sim                   1000 non-null   int64  \n",
      " 6   fc                         1000 non-null   float64\n",
      " 7   four_g                     1000 non-null   float64\n",
      " 8   int_memory                 1000 non-null   int64  \n",
      " 9   m_dep                      1000 non-null   float64\n",
      " 10  mobile_wt                  999 non-null    float64\n",
      " 11  n_cores                    999 non-null    float64\n",
      " 12  pc                         997 non-null    float64\n",
      " 13  px_height                  1000 non-null   int64  \n",
      " 14  px_width                   1000 non-null   int64  \n",
      " 15  ram                        1000 non-null   int64  \n",
      " 16  sc_h                       1000 non-null   int64  \n",
      " 17  sc_w                       1000 non-null   int64  \n",
      " 18  talk_time                  1000 non-null   int64  \n",
      " 19  three_g                    1000 non-null   int64  \n",
      " 20  touch_screen               1000 non-null   int64  \n",
      " 21  wifi                       1000 non-null   int64  \n",
      " 22  battery_efficiency         1000 non-null   int64  \n",
      " 23  screen_size_index          1000 non-null   int64  \n",
      " 24  camera_quality_index       1000 non-null   int64  \n",
      " 25  connectivity_index         1000 non-null   int64  \n",
      " 26  performance_index          1000 non-null   float64\n",
      " 27  storage_capacity_index     1000 non-null   int64  \n",
      " 28  multitasking_capability    1000 non-null   int64  \n",
      " 29  display_resolution_index   1000 non-null   int64  \n",
      " 30  camera_resolution_index    1000 non-null   int64  \n",
      " 31  battery_longevity_index    1000 non-null   int64  \n",
      " 32  connectivity_memory_ratio  1000 non-null   float64\n",
      "dtypes: float64(9), int64(24)\n",
      "memory usage: 257.9 KB\n"
     ]
    }
   ],
   "source": [
    "df.info()"
   ]
  },
  {
   "cell_type": "code",
   "execution_count": 25,
   "metadata": {},
   "outputs": [],
   "source": [
    "df=df.astype(float)  # data type larni bir biriga almastirish kodi"
   ]
  },
  {
   "cell_type": "code",
   "execution_count": 24,
   "metadata": {},
   "outputs": [
    {
     "name": "stdout",
     "output_type": "stream",
     "text": [
      "<class 'pandas.core.frame.DataFrame'>\n",
      "RangeIndex: 1000 entries, 0 to 999\n",
      "Data columns (total 33 columns):\n",
      " #   Column                     Non-Null Count  Dtype  \n",
      "---  ------                     --------------  -----  \n",
      " 0   Unnamed: 0                 1000 non-null   float64\n",
      " 1   id                         1000 non-null   float64\n",
      " 2   battery_power              1000 non-null   float64\n",
      " 3   blue                       1000 non-null   float64\n",
      " 4   clock_speed                1000 non-null   float64\n",
      " 5   dual_sim                   1000 non-null   float64\n",
      " 6   fc                         1000 non-null   float64\n",
      " 7   four_g                     1000 non-null   float64\n",
      " 8   int_memory                 1000 non-null   float64\n",
      " 9   m_dep                      1000 non-null   float64\n",
      " 10  mobile_wt                  999 non-null    float64\n",
      " 11  n_cores                    999 non-null    float64\n",
      " 12  pc                         997 non-null    float64\n",
      " 13  px_height                  1000 non-null   float64\n",
      " 14  px_width                   1000 non-null   float64\n",
      " 15  ram                        1000 non-null   float64\n",
      " 16  sc_h                       1000 non-null   float64\n",
      " 17  sc_w                       1000 non-null   float64\n",
      " 18  talk_time                  1000 non-null   float64\n",
      " 19  three_g                    1000 non-null   float64\n",
      " 20  touch_screen               1000 non-null   float64\n",
      " 21  wifi                       1000 non-null   float64\n",
      " 22  battery_efficiency         1000 non-null   float64\n",
      " 23  screen_size_index          1000 non-null   float64\n",
      " 24  camera_quality_index       1000 non-null   float64\n",
      " 25  connectivity_index         1000 non-null   float64\n",
      " 26  performance_index          1000 non-null   float64\n",
      " 27  storage_capacity_index     1000 non-null   float64\n",
      " 28  multitasking_capability    1000 non-null   float64\n",
      " 29  display_resolution_index   1000 non-null   float64\n",
      " 30  camera_resolution_index    1000 non-null   float64\n",
      " 31  battery_longevity_index    1000 non-null   float64\n",
      " 32  connectivity_memory_ratio  1000 non-null   float64\n",
      "dtypes: float64(33)\n",
      "memory usage: 257.9 KB\n"
     ]
    }
   ],
   "source": [
    "df.info()"
   ]
  },
  {
   "cell_type": "code",
   "execution_count": null,
   "metadata": {},
   "outputs": [],
   "source": []
  }
 ],
 "metadata": {
  "kernelspec": {
   "display_name": "Python 3",
   "language": "python",
   "name": "python3"
  },
  "language_info": {
   "codemirror_mode": {
    "name": "ipython",
    "version": 3
   },
   "file_extension": ".py",
   "mimetype": "text/x-python",
   "name": "python",
   "nbconvert_exporter": "python",
   "pygments_lexer": "ipython3",
   "version": "3.11.9"
  }
 },
 "nbformat": 4,
 "nbformat_minor": 2
}
